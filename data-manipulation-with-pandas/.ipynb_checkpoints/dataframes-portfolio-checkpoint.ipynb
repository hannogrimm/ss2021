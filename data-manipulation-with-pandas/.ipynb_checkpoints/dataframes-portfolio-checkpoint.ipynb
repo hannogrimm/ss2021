{
 "cells": [
  {
   "cell_type": "markdown",
   "id": "economic-experiment",
   "metadata": {},
   "source": [
    "# Data Manipulation with Panda"
   ]
  },
  {
   "cell_type": "markdown",
   "id": "center-catch",
   "metadata": {},
   "source": [
    "## DataFrames\n",
    "A DataFrame is a rectangular (or tabular) representation of data. It consists of _rows_ and _columns_. _columns_ can have various data-types, for example *text*, *float* or *integer*. Consequentially, each value in a column has the same data-type. "
   ]
  },
  {
   "cell_type": "code",
   "execution_count": 3,
   "id": "enclosed-representative",
   "metadata": {},
   "outputs": [
    {
     "name": "stdout",
     "output_type": "stream",
     "text": [
      "   Unnamed: 0              region       state  individuals  family_members  \\\n",
      "0           0  East South Central     Alabama       2570.0           864.0   \n",
      "1           1             Pacific      Alaska       1434.0           582.0   \n",
      "2           2            Mountain     Arizona       7259.0          2606.0   \n",
      "3           3  West South Central    Arkansas       2280.0           432.0   \n",
      "4           4             Pacific  California     109008.0         20964.0   \n",
      "\n",
      "   state_pop  \n",
      "0    4887681  \n",
      "1     735139  \n",
      "2    7158024  \n",
      "3    3009733  \n",
      "4   39461588  \n"
     ]
    }
   ],
   "source": [
    "import pandas as pd\n",
    "\n",
    "homelessness = pd.read_csv(\"./homelessness.csv\")"
   ]
  },
  {
   "cell_type": "code",
   "execution_count": null,
   "id": "structural-mistress",
   "metadata": {},
   "outputs": [],
   "source": []
  }
 ],
 "metadata": {
  "kernelspec": {
   "display_name": "Python 3",
   "language": "python",
   "name": "python3"
  },
  "language_info": {
   "codemirror_mode": {
    "name": "ipython",
    "version": 3
   },
   "file_extension": ".py",
   "mimetype": "text/x-python",
   "name": "python",
   "nbconvert_exporter": "python",
   "pygments_lexer": "ipython3",
   "version": "3.9.0"
  }
 },
 "nbformat": 4,
 "nbformat_minor": 5
}
