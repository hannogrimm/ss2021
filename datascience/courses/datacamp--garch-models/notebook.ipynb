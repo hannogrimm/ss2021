{
 "metadata": {
  "language_info": {
   "codemirror_mode": {
    "name": "ipython",
    "version": 3
   },
   "file_extension": ".py",
   "mimetype": "text/x-python",
   "name": "python",
   "nbconvert_exporter": "python",
   "pygments_lexer": "ipython3",
   "version": "3.9.4"
  },
  "orig_nbformat": 2,
  "kernelspec": {
   "name": "python3",
   "display_name": "Python 3.9.4 64-bit ('venv': venv)",
   "metadata": {
    "interpreter": {
     "hash": "3ad3cd3a1b5a851b43413d8bd184d22586f44aeec7c62f26994e0166c40d3e50"
    }
   }
  }
 },
 "nbformat": 4,
 "nbformat_minor": 2,
 "cells": [
  {
   "source": [
    "# Notes on GARCH Models Course\n",
    "\n",
    "* **GARCH** Stands for Generalized AutoRegressive Conditional **Heteroskedastiscity**. In ancient greek: _hetero_ - \"different\" + _skedasis_ \"dispersion\".\n",
    "  * The sytematic varying of the volatility of a time series.\n",
    "* * Heteroskedasticity makes time-series modelling difficult due to the nature of the implied varying levels of fluctuations.\n",
    "* The predecessor of GARCH is the ARCH model. It was invented to better describe time series with varying volatility (heteroskedastic). It's based on the assumption that the conditional variance errors by random model errors is dependent on the variance errors of the previous period. \n",
    "  * i.e. the variance error is _serially autocorrelated_\n",
    "*  A common example of the difficulties with heteroskedastic time-series are **\"volatility clusters\"**. Commonly, a sudden upsurge of prices is followed by even more general trend to higher prices. This is due to the shock reaction of the market to rising prices and only the slow recovery from this shock attitude. [Example Image](https://external-content.duckduckgo.com/iu/?u=https%3A%2F%2Ftse1.mm.bing.net%2Fth%3Fid%3DOIP.VuWn7iL47b7_3kYHNknDTwHaE4%26pid%3DApi&f=1).\n",
    "*  (G)ARCH makes prediction on the change in residual. A higher residual (i.e. higher volatility) calls for a prediction of following higher residual (following higher volatility).\n",
    "*  A **residual** is the difference of an expected (predicted) value to the actual (observed) value. (`residual = predicted - observed`).\n",
    "* Robert F. Engie, the inventor of the ARCH model,later received the Nobel Prize of Economy for his invention.\n",
    "* The main difference between GARCH and ARCH Model is GARCH's implementation of a moving average over time. The new parameter `p` for number of lag variances to include allows the prediction of change in variance over time as well as time-dependent variance.\n",
    "* GARCH is used nowadays for financial analyises due to its higher precision. \n",
    "* GARCH has received multiple extensions (e.g. IGARCH, EGARCH) due to its prediction biases. For example, GARCH assumes the same effect on volatility for both good and bad news, i.e. fails to include the \"leveraging\" effect on uplifting news to disrupt high volatility. \n",
    "\n",
    "  \n",
    "### Nature of the GARCH Model\n",
    "* The GARCH Model is basically made out of three variance forecasts:\n",
    "  * One is the constant `ω` (omega) that takes the long-run average into consideration.\n",
    "  * One is the forecast `α` (alpha) that introduces new information that was not yet available in the previous forecast.\n",
    "  * The last one is a forecast `β` (beta) made in the previous period.\n",
    "\n",
    "The weights of these three determine how fast the variance chances with new information available. Furthermore, it determines how fast the prediction returns to its long-term mean.\n",
    "\n",
    "* Autoregressive: predictions on the behaviour in the future are based on behaviours of the past.\n",
    "* Volatility acts as a weighted average of past information.\n",
    "* The larger `α` (alpha), the bigger the immediate impact\n",
    "* The larger `β` (beta), the longer the duration of the impact\n"
   ],
   "cell_type": "markdown",
   "metadata": {}
  },
  {
   "source": [
    "${\\displaystyle \\sigma _{t}^{2}=\\omega +\\alpha _{1}\\epsilon _{t-1}^{2}+\\cdots +\\alpha _{q}\\epsilon _{t-q}^{2}+\\beta _{1}\\sigma _{t-1}^{2}+\\cdots +\\beta _{p}\\sigma _{t-p}^{2}=\\omega +\\sum _{i=1}^{q}\\alpha _{i}\\epsilon _{t-i}^{2}+\\sum _{i=1}^{p}\\beta _{i}\\sigma _{t-i}^{2}}$"
   ],
   "cell_type": "markdown",
   "metadata": {}
  },
  {
   "source": [
    "Where $ϵ$ is the error (return residuals with respect to the mean process).\n"
   ],
   "cell_type": "markdown",
   "metadata": {}
  },
  {
   "source": [
    "### Use in Python"
   ],
   "cell_type": "markdown",
   "metadata": {}
  },
  {
   "cell_type": "code",
   "execution_count": 3,
   "metadata": {},
   "outputs": [
    {
     "output_type": "error",
     "ename": "SyntaxError",
     "evalue": "invalid syntax (<ipython-input-3-617b9ea4b22d>, line 1)",
     "traceback": [
      "\u001b[0;36m  File \u001b[0;32m\"<ipython-input-3-617b9ea4b22d>\"\u001b[0;36m, line \u001b[0;32m1\u001b[0m\n\u001b[0;31m    import arch_model from arch\u001b[0m\n\u001b[0m                      ^\u001b[0m\n\u001b[0;31mSyntaxError\u001b[0m\u001b[0;31m:\u001b[0m invalid syntax\n"
     ]
    }
   ],
   "source": [
    "import arch_model from arch\n",
    "import pandas as pd\n",
    "\n",
    "sp_data = pd.read_csv(\"./datasets/sp.csv\")\n",
    "\n",
    "# Specify GARCH model assumptions\n",
    "basic_gm = arch_model(sp_data['Return'], p = 1, q = 1,\n",
    "                      mean = 'constant', vol = 'GARCH', dist = 'normal')\n",
    "# Fit the model\n",
    "gm_result = basic_gm.fit(update_freq = 4)\n",
    "\n",
    "# Display model fitting summary\n",
    "print(gm_result.summary())\n",
    "\n",
    "# Plot fitted results\n",
    "gm_result.plot()\n",
    "plt.show()"
   ]
  },
  {
   "cell_type": "code",
   "execution_count": null,
   "metadata": {},
   "outputs": [],
   "source": []
  }
 ]
}