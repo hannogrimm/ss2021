{
 "cells": [
  {
   "cell_type": "markdown",
   "id": "hidden-situation",
   "metadata": {},
   "source": [
    "# Data Manipulation with Panda"
   ]
  },
  {
   "cell_type": "markdown",
   "id": "excellent-aluminum",
   "metadata": {},
   "source": [
    "## DataFrame\n",
    "A DataFrame is a rectangular (or tabular) representation of data. It consists of _rows_ and _columns_. _columns_ can have various data-types, for example *text*, *float* or *integer*. Consequentially, each value in a column has the same data-type. \n",
    "\n",
    "This notebook works with an example dataset on homelessness in US States."
   ]
  },
  {
   "cell_type": "markdown",
   "id": "republican-action",
   "metadata": {},
   "source": [
    "We can load data directly from CSV files with _pandas_."
   ]
  },
  {
   "cell_type": "code",
   "execution_count": 5,
   "id": "isolated-continent",
   "metadata": {},
   "outputs": [],
   "source": [
    "import pandas as pd\n",
    "\n",
    "homelessness = pd.read_csv(\"./homelessness.csv\")"
   ]
  },
  {
   "cell_type": "markdown",
   "id": "imperial-picking",
   "metadata": {},
   "source": [
    "## Inspecting DataFrames"
   ]
  },
  {
   "cell_type": "markdown",
   "id": "competitive-insulation",
   "metadata": {},
   "source": [
    "#### Basic structure\n",
    "We can inspect the basic structure of a DataFrame. A neat way to do this is by using it's method `.head()` which will only return the first few rows of a DataFrame instead of the whole table. "
   ]
  },
  {
   "cell_type": "code",
   "execution_count": 7,
   "id": "rocky-artist",
   "metadata": {},
   "outputs": [
    {
     "name": "stdout",
     "output_type": "stream",
     "text": [
      "   Unnamed: 0              region       state  individuals  family_members  \\\n",
      "0           0  East South Central     Alabama       2570.0           864.0   \n",
      "1           1             Pacific      Alaska       1434.0           582.0   \n",
      "2           2            Mountain     Arizona       7259.0          2606.0   \n",
      "3           3  West South Central    Arkansas       2280.0           432.0   \n",
      "4           4             Pacific  California     109008.0         20964.0   \n",
      "\n",
      "   state_pop  \n",
      "0    4887681  \n",
      "1     735139  \n",
      "2    7158024  \n",
      "3    3009733  \n",
      "4   39461588  \n"
     ]
    }
   ],
   "source": [
    "print(homelessness.head())"
   ]
  },
  {
   "cell_type": "markdown",
   "id": "opponent-newport",
   "metadata": {},
   "source": [
    "#### Retrieve Details with `.info()`\n",
    "We might also need additional information to understand our DataFrame such as the data-types or nullish nature of its columns. This can be done by using the `.info()` method. In the presentation below, we can for example retrieve the information that ...\n",
    "1) our DataFrame has 51 rows.\n",
    "2) the columns feature different data-types (dtypes).\n",
    "3) the size of our DataFrame is about 2,5+kb big.\n",
    "\n"
   ]
  },
  {
   "cell_type": "code",
   "execution_count": 8,
   "id": "enabling-interval",
   "metadata": {},
   "outputs": [
    {
     "name": "stdout",
     "output_type": "stream",
     "text": [
      "<class 'pandas.core.frame.DataFrame'>\n",
      "RangeIndex: 51 entries, 0 to 50\n",
      "Data columns (total 6 columns):\n",
      " #   Column          Non-Null Count  Dtype  \n",
      "---  ------          --------------  -----  \n",
      " 0   Unnamed: 0      51 non-null     int64  \n",
      " 1   region          51 non-null     object \n",
      " 2   state           51 non-null     object \n",
      " 3   individuals     51 non-null     float64\n",
      " 4   family_members  51 non-null     float64\n",
      " 5   state_pop       51 non-null     int64  \n",
      "dtypes: float64(2), int64(2), object(2)\n",
      "memory usage: 2.5+ KB\n",
      "None\n"
     ]
    }
   ],
   "source": [
    "print(homelessness.info())"
   ]
  },
  {
   "cell_type": "markdown",
   "id": "regional-playing",
   "metadata": {},
   "source": [
    "#### Count of rows & columns with `.shape`\n",
    "\n",
    "The `.shape` property holds information on the count of rows and columns of our DataFrame.\n",
    "The following output has to be read as _(count of rows, count of columns)_."
   ]
  },
  {
   "cell_type": "code",
   "execution_count": 10,
   "id": "cardiovascular-courtesy",
   "metadata": {},
   "outputs": [
    {
     "name": "stdout",
     "output_type": "stream",
     "text": [
      "(51, 6)\n"
     ]
    }
   ],
   "source": [
    "print(homelessness.shape)"
   ]
  },
  {
   "cell_type": "markdown",
   "id": "radio-queue",
   "metadata": {},
   "source": [
    "#### Numeric description with `.describe()`\n",
    "Pandas can return us a helpful overview of numeric values about our DataFrame. With `.describe()` we can receive an overview of the average, standard deviation, min, max and various other values of our numeric table."
   ]
  },
  {
   "cell_type": "code",
   "execution_count": 11,
   "id": "dress-wallace",
   "metadata": {},
   "outputs": [
    {
     "name": "stdout",
     "output_type": "stream",
     "text": [
      "       Unnamed: 0    individuals  family_members     state_pop\n",
      "count   51.000000      51.000000       51.000000  5.100000e+01\n",
      "mean    25.000000    7225.784314     3504.882353  6.405637e+06\n",
      "std     14.866069   15991.025083     7805.411811  7.327258e+06\n",
      "min      0.000000     434.000000       75.000000  5.776010e+05\n",
      "25%     12.500000    1446.500000      592.000000  1.777414e+06\n",
      "50%     25.000000    3082.000000     1482.000000  4.461153e+06\n",
      "75%     37.500000    6781.500000     3196.000000  7.340946e+06\n",
      "max     50.000000  109008.000000    52070.000000  3.946159e+07\n"
     ]
    }
   ],
   "source": [
    "print(homelessness.describe())"
   ]
  },
  {
   "cell_type": "markdown",
   "id": "activated-parcel",
   "metadata": {},
   "source": [
    "In the example above, we can retrieve the information that...\n",
    "1) (_min_) the lowest count of homeless persons in one of the 51 US States is 434.\n",
    "2) (_max_) the count of the highest homelessness in another US State is 109.000 persons.\n",
    "3) (_mean_) the average count of homeless persons by state is 7225 (_mean_) "
   ]
  },
  {
   "cell_type": "code",
   "execution_count": null,
   "id": "metallic-detroit",
   "metadata": {},
   "outputs": [],
   "source": []
  }
 ],
 "metadata": {
  "kernelspec": {
   "display_name": "Python 3",
   "language": "python",
   "name": "python3"
  },
  "language_info": {
   "codemirror_mode": {
    "name": "ipython",
    "version": 3
   },
   "file_extension": ".py",
   "mimetype": "text/x-python",
   "name": "python",
   "nbconvert_exporter": "python",
   "pygments_lexer": "ipython3",
   "version": "3.9.0"
  }
 },
 "nbformat": 4,
 "nbformat_minor": 5
}
