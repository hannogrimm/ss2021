{
 "cells": [
  {
   "cell_type": "markdown",
   "metadata": {
    "id": "5excFH9INsnB"
   },
   "source": [
    "Notebook modified form the Datacamp project https://learn.datacamp.com/projects/697"
   ]
  },
  {
   "cell_type": "markdown",
   "metadata": {
    "id": "mWnvfL0ZNsnG"
   },
   "source": [
    "# Kidney Stones and Simpson's Paradox"
   ]
  },
  {
   "cell_type": "markdown",
   "metadata": {
    "id": "q4PSb6tsNsnG"
   },
   "source": [
    "## 1. A new look at an old research study\n",
    "\n",
    "In 1986, a group of urologists in London published a research paper in <em>The British Medical Journal</em> that compared the effectiveness of two different methods to remove kidney stones. Treatment A was open surgery (invasive), and treatment B was percutaneous nephrolithotomy (less invasive). When they looked at the results from 700 patients, treatment B had a higher success rate. However, when they only looked at the subgroup of patients different kidney stone sizes, treatment A had a better success rate. What is going on here? This known statistical phenomenon is called Simpon’s paradox. Simpon's paradox occurs when trends appear in subgroups but disappear or reverse when subgroups are combined.\n",
    "\n",
    "<img src=\"https://assets.datacamp.com/production/project_697/img/img1.jpg\" height=\"500\" width=\"500\"></p>"
   ]
  },
  {
   "cell_type": "code",
   "execution_count": 34,
   "metadata": {
    "colab": {
     "base_uri": "https://localhost:8080/",
     "height": 431
    },
    "executionInfo": {
     "elapsed": 1546,
     "status": "error",
     "timestamp": 1614525432722,
     "user": {
      "displayName": "Florencia Noriega",
      "photoUrl": "https://lh3.googleusercontent.com/a-/AOh14GjnLrDGbtYulE3Xvph7uGUXIGjchHCV2L-zfQjd=s64",
      "userId": "05474381489386337834"
     },
     "user_tz": -60
    },
    "id": "3zZV_Z9pNsnH",
    "outputId": "88fef8d3-95f8-4e2b-ec9b-2cb95f3ff7b6"
   },
   "outputs": [],
   "source": [
    "# Load NumPy, pandas, pyplot from matplotlib and seaborn\n",
    "import numpy as np\n",
    "import pandas as pd\n",
    "import matplotlib.pyplot as plt\n",
    "import seaborn as sns"
   ]
  },
  {
   "cell_type": "code",
   "execution_count": 35,
   "metadata": {
    "id": "c6a9J6mTNsnH"
   },
   "outputs": [
    {
     "data": {
      "text/html": [
       "<div>\n",
       "<style scoped>\n",
       "    .dataframe tbody tr th:only-of-type {\n",
       "        vertical-align: middle;\n",
       "    }\n",
       "\n",
       "    .dataframe tbody tr th {\n",
       "        vertical-align: top;\n",
       "    }\n",
       "\n",
       "    .dataframe thead th {\n",
       "        text-align: right;\n",
       "    }\n",
       "</style>\n",
       "<table border=\"1\" class=\"dataframe\">\n",
       "  <thead>\n",
       "    <tr style=\"text-align: right;\">\n",
       "      <th></th>\n",
       "      <th>treatment</th>\n",
       "      <th>stone_size</th>\n",
       "      <th>success</th>\n",
       "    </tr>\n",
       "  </thead>\n",
       "  <tbody>\n",
       "    <tr>\n",
       "      <th>0</th>\n",
       "      <td>B</td>\n",
       "      <td>large</td>\n",
       "      <td>1</td>\n",
       "    </tr>\n",
       "    <tr>\n",
       "      <th>1</th>\n",
       "      <td>A</td>\n",
       "      <td>large</td>\n",
       "      <td>1</td>\n",
       "    </tr>\n",
       "    <tr>\n",
       "      <th>2</th>\n",
       "      <td>A</td>\n",
       "      <td>large</td>\n",
       "      <td>0</td>\n",
       "    </tr>\n",
       "    <tr>\n",
       "      <th>3</th>\n",
       "      <td>A</td>\n",
       "      <td>large</td>\n",
       "      <td>1</td>\n",
       "    </tr>\n",
       "    <tr>\n",
       "      <th>4</th>\n",
       "      <td>A</td>\n",
       "      <td>large</td>\n",
       "      <td>1</td>\n",
       "    </tr>\n",
       "  </tbody>\n",
       "</table>\n",
       "</div>"
      ],
      "text/plain": [
       "  treatment stone_size  success\n",
       "0         B      large        1\n",
       "1         A      large        1\n",
       "2         A      large        0\n",
       "3         A      large        1\n",
       "4         A      large        1"
      ]
     },
     "execution_count": 35,
     "metadata": {},
     "output_type": "execute_result"
    }
   ],
   "source": [
    "# Use pandas' read_csv to load the datasets kidney_stone_data.csv into a dataframe\n",
    "fi = './kidney_stone_data.csv'\n",
    "df = pd.read_csv(fi)\n",
    "\n",
    "# Take a look at the first few rows of the dataset\n",
    "df.head()"
   ]
  },
  {
   "cell_type": "markdown",
   "metadata": {
    "id": "2apzKuYgNsnI"
   },
   "source": [
    "## 2. Recreate the Treatment X Success summary table\n",
    "\n",
    "The data contains three columns: `treatment` (A or B), `stone_size` (large or small) and `success` (0 = Failure or 1 = Success). \n",
    "To start, we want to know which treatment had a higher success rate regardless of stone size. \n",
    "\n",
    "Let's create a dataframe with the number of successes and frequency of success by each treatment.\n",
    "\n",
    "For this we're going to use the `groupby` and the `agg` methods (Check out this [post](https://towardsdatascience.com/4-useful-tips-of-pandas-groupby-3744eefb1852) to learn about this methods).  \n",
    "\n",
    "1. Group by treatment and success and aggregate by counting the items in each of this categories, i.e. treatment A, success 1, treatment A, success 0, treatment B, success 1 and treatment B, success 0.\n",
    "\n",
    "2. For each treatment calculate the percentage of success 0 and 1.  \n",
    "\n",
    "$$\n",
    "\\mbox{Percentage of successful cases with treatment A} = 100 \\times \\frac{\\mbox{Number of successful cases with A}}{\\mbox{Total number of cases with A}}\n",
    "$$\n",
    "\n"
   ]
  },
  {
   "cell_type": "code",
   "execution_count": 36,
   "metadata": {
    "id": "yXEhXlkyNsnI"
   },
   "outputs": [
    {
     "data": {
      "text/html": [
       "<div>\n",
       "<style scoped>\n",
       "    .dataframe tbody tr th:only-of-type {\n",
       "        vertical-align: middle;\n",
       "    }\n",
       "\n",
       "    .dataframe tbody tr th {\n",
       "        vertical-align: top;\n",
       "    }\n",
       "\n",
       "    .dataframe thead th {\n",
       "        text-align: right;\n",
       "    }\n",
       "</style>\n",
       "<table border=\"1\" class=\"dataframe\">\n",
       "  <thead>\n",
       "    <tr style=\"text-align: right;\">\n",
       "      <th></th>\n",
       "      <th></th>\n",
       "      <th>success</th>\n",
       "      <th>%</th>\n",
       "    </tr>\n",
       "    <tr>\n",
       "      <th>treatment</th>\n",
       "      <th>success</th>\n",
       "      <th></th>\n",
       "      <th></th>\n",
       "    </tr>\n",
       "  </thead>\n",
       "  <tbody>\n",
       "    <tr>\n",
       "      <th rowspan=\"2\" valign=\"top\">A</th>\n",
       "      <th>0</th>\n",
       "      <td>77</td>\n",
       "      <td>22.000000</td>\n",
       "    </tr>\n",
       "    <tr>\n",
       "      <th>1</th>\n",
       "      <td>273</td>\n",
       "      <td>78.000000</td>\n",
       "    </tr>\n",
       "    <tr>\n",
       "      <th rowspan=\"2\" valign=\"top\">B</th>\n",
       "      <th>0</th>\n",
       "      <td>61</td>\n",
       "      <td>17.428571</td>\n",
       "    </tr>\n",
       "    <tr>\n",
       "      <th>1</th>\n",
       "      <td>289</td>\n",
       "      <td>82.571429</td>\n",
       "    </tr>\n",
       "  </tbody>\n",
       "</table>\n",
       "</div>"
      ],
      "text/plain": [
       "                   success          %\n",
       "treatment success                    \n",
       "A         0             77  22.000000\n",
       "          1            273  78.000000\n",
       "B         0             61  17.428571\n",
       "          1            289  82.571429"
      ]
     },
     "execution_count": 36,
     "metadata": {},
     "output_type": "execute_result"
    }
   ],
   "source": [
    "# (1) group by treatment and success and aggregate by counting the items in each of this categories, i.e. treatement A, success 1\n",
    "treatment_counts = df.groupby(['treatment', 'success']).agg({'success': 'count'})\n",
    "# (2) \n",
    "treatment_counts['%'] = treatment_counts.groupby(level=0).apply(lambda x: 100 * x / x.sum())\n",
    "treatment_counts"
   ]
  },
  {
   "cell_type": "markdown",
   "metadata": {
    "id": "2WWCr4URNsnI"
   },
   "source": [
    "#### Which treatment has a higher success?"
   ]
  },
  {
   "cell_type": "markdown",
   "metadata": {
    "id": "VFyPwRhnNsnI"
   },
   "source": [
    "Treatment B with ~82.50% in contrast to Treatment A with 78%."
   ]
  },
  {
   "cell_type": "markdown",
   "metadata": {
    "id": "HeKWYqCCNsnI"
   },
   "source": [
    "## 3. Bringing stone size into the picture\n",
    "\n",
    "From the treatment and success rate descriptive table, we saw that treatment B performed better on average compared to treatment A (82% vs. 78% success rate). \n",
    "\n",
    "Now, let's consider stone size and see what happens. \n",
    "We are going to stratify the data into small vs. large stone subcategories and compute the same success count and rate by treatment like we did in the previous task.\n"
   ]
  },
  {
   "cell_type": "code",
   "execution_count": 37,
   "metadata": {
    "id": "BpXjDXEaNsnJ"
   },
   "outputs": [
    {
     "data": {
      "text/html": [
       "<div>\n",
       "<style scoped>\n",
       "    .dataframe tbody tr th:only-of-type {\n",
       "        vertical-align: middle;\n",
       "    }\n",
       "\n",
       "    .dataframe tbody tr th {\n",
       "        vertical-align: top;\n",
       "    }\n",
       "\n",
       "    .dataframe thead th {\n",
       "        text-align: right;\n",
       "    }\n",
       "</style>\n",
       "<table border=\"1\" class=\"dataframe\">\n",
       "  <thead>\n",
       "    <tr style=\"text-align: right;\">\n",
       "      <th></th>\n",
       "      <th></th>\n",
       "      <th></th>\n",
       "      <th>success</th>\n",
       "      <th>%</th>\n",
       "    </tr>\n",
       "    <tr>\n",
       "      <th>treatment</th>\n",
       "      <th>stone_size</th>\n",
       "      <th>success</th>\n",
       "      <th></th>\n",
       "      <th></th>\n",
       "    </tr>\n",
       "  </thead>\n",
       "  <tbody>\n",
       "    <tr>\n",
       "      <th rowspan=\"4\" valign=\"top\">A</th>\n",
       "      <th rowspan=\"2\" valign=\"top\">large</th>\n",
       "      <th>0</th>\n",
       "      <td>71</td>\n",
       "      <td>26.996198</td>\n",
       "    </tr>\n",
       "    <tr>\n",
       "      <th>1</th>\n",
       "      <td>192</td>\n",
       "      <td>73.003802</td>\n",
       "    </tr>\n",
       "    <tr>\n",
       "      <th rowspan=\"2\" valign=\"top\">small</th>\n",
       "      <th>0</th>\n",
       "      <td>6</td>\n",
       "      <td>6.896552</td>\n",
       "    </tr>\n",
       "    <tr>\n",
       "      <th>1</th>\n",
       "      <td>81</td>\n",
       "      <td>93.103448</td>\n",
       "    </tr>\n",
       "    <tr>\n",
       "      <th rowspan=\"4\" valign=\"top\">B</th>\n",
       "      <th rowspan=\"2\" valign=\"top\">large</th>\n",
       "      <th>0</th>\n",
       "      <td>25</td>\n",
       "      <td>31.250000</td>\n",
       "    </tr>\n",
       "    <tr>\n",
       "      <th>1</th>\n",
       "      <td>55</td>\n",
       "      <td>68.750000</td>\n",
       "    </tr>\n",
       "    <tr>\n",
       "      <th rowspan=\"2\" valign=\"top\">small</th>\n",
       "      <th>0</th>\n",
       "      <td>36</td>\n",
       "      <td>13.333333</td>\n",
       "    </tr>\n",
       "    <tr>\n",
       "      <th>1</th>\n",
       "      <td>234</td>\n",
       "      <td>86.666667</td>\n",
       "    </tr>\n",
       "  </tbody>\n",
       "</table>\n",
       "</div>"
      ],
      "text/plain": [
       "                              success          %\n",
       "treatment stone_size success                    \n",
       "A         large      0             71  26.996198\n",
       "                     1            192  73.003802\n",
       "          small      0              6   6.896552\n",
       "                     1             81  93.103448\n",
       "B         large      0             25  31.250000\n",
       "                     1             55  68.750000\n",
       "          small      0             36  13.333333\n",
       "                     1            234  86.666667"
      ]
     },
     "execution_count": 37,
     "metadata": {},
     "output_type": "execute_result"
    }
   ],
   "source": [
    "# (1) group by treatment, stone_size and success and aggregate by counting the items in each of this categories, i.e. treatement A, success 1\n",
    "treatment_size_counts = df.groupby(['treatment', 'stone_size', 'success']).agg({ 'success': 'count'})\n",
    "# (2) calculate the percentages, hint do the same as in the above example but setting the keyword agument level=[0,1]\n",
    "treatment_size_counts['%'] = treatment_size_counts.groupby(level=[0,1]).apply(lambda x: 100 * x / x.sum())\n",
    "treatment_size_counts"
   ]
  },
  {
   "cell_type": "markdown",
   "metadata": {
    "id": "lvEPknHYNsnJ"
   },
   "source": [
    "Look at the success percentages for each treatment in the stone size groups.\n",
    "**Which treatment has a higher success?**"
   ]
  },
  {
   "cell_type": "markdown",
   "metadata": {
    "id": "O1jwP-BSNsnJ"
   },
   "source": [
    "Treatment A has a higher success rate with 73% for large and 93% for small stone sizes, while Treatment B has a success rate of about 69% for large and 87% for small kindey stone sizes."
   ]
  },
  {
   "cell_type": "markdown",
   "metadata": {
    "id": "Mcv64fA4NsnJ"
   },
   "source": [
    "## 4.  Summarize your observation using plots\n",
    "\n",
    "Summarize your findings by plotting the success rate for each of the treatments, first ignoring the stone size and then taking the stone size into account.\n",
    "\n",
    "Here, we use Seaborn's barplot on the original dataset `df` with the treatment in the `x` variable and the success rate in the `y` variable. We compute the success using the mean as estimator (recall that the mean of a data is just the ration of ones.) \n",
    "In the second plot, we distinguish the `stone_size` by using the `hue` parameter."
   ]
  },
  {
   "cell_type": "code",
   "execution_count": 39,
   "metadata": {
    "id": "iGFYQo9nNsnK"
   },
   "outputs": [
    {
     "data": {
      "text/plain": [
       "<AxesSubplot:xlabel='treatment', ylabel='success'>"
      ]
     },
     "execution_count": 39,
     "metadata": {},
     "output_type": "execute_result"
    },
    {
     "data": {
      "image/png": "[encoded data removed]",
      "text/plain": [
       "<Figure size 864x288 with 2 Axes>"
      ]
     },
     "metadata": {
      "needs_background": "light"
     },
     "output_type": "display_data"
    }
   ],
   "source": [
    "fig, ax = plt.subplots(1, 2, figsize=(12,4))\n",
    "sns.barplot(x='treatment', y='success', data=df, ax=ax[0], color='gray', estimator=np.mean)\n",
    "sns.barplot(x='treatment', y='success', hue='stone_size', data=df, ax=ax[1], estimator=np.mean)"
   ]
  },
  {
   "cell_type": "markdown",
   "metadata": {
    "id": "hLszAnW3NsnK"
   },
   "source": [
    "Now let's count the number of successes in each group by changing the estimator to `np.count_nonzero`"
   ]
  },
  {
   "cell_type": "code",
   "execution_count": 41,
   "metadata": {
    "id": "Fv_5g9KVNsnK"
   },
   "outputs": [
    {
     "data": {
      "text/plain": [
       "<AxesSubplot:xlabel='treatment', ylabel='success'>"
      ]
     },
     "execution_count": 41,
     "metadata": {},
     "output_type": "execute_result"
    },
    {
     "data": {
      "image/png": "[encoded data removed]",
      "text/plain": [
       "<Figure size 864x288 with 2 Axes>"
      ]
     },
     "metadata": {
      "needs_background": "light"
     },
     "output_type": "display_data"
    }
   ],
   "source": [
    "fig, ax = plt.subplots(1, 2, figsize=(12,4))\n",
    "sns.barplot(x='treatment', y='success', data=df, ax=ax[0], color='gray', estimator=np.count_nonzero)\n",
    "sns.barplot(x='treatment', y='success', hue='stone_size', data=df, ax=ax[1], estimator=np.count_nonzero)"
   ]
  },
  {
   "cell_type": "markdown",
   "metadata": {
    "id": "In5f-0PvNsnK"
   },
   "source": [
    "Describe what you observe in the figures"
   ]
  },
  {
   "cell_type": "markdown",
   "metadata": {
    "id": "nAQa2EB5NsnL"
   },
   "source": [
    "The left figure leaves the impression of a relatively even success rate on first glance, with a small lead of Treatment B. We can state that this is not a proper conclusion as: 1. Treatment A and B can have varying amounts of general treatments (treatment A has been used 400 times, treatment B only 300) and therefore, the *count* of success rates is insignificant. 2. the more granular populations of four grouped by the two independent variables *stone_size* and *treatment* indicate a more fluctuating success rate based on the population (stone_size + treatment). \n",
    "\n",
    "We are able to give a statement about a treatment's success rate by:\n",
    "1. averaging both success rates based on large/small stone_size as indicated in Figure 2.\n",
    "2. making four statements to each success rate for treatment+stone_size combination and deriving the favorability of treatment application based on that."
   ]
  }
 ],
 "metadata": {
  "colab": {
   "name": "03_KidneyStones_SimpsonsParadox.ipynb",
   "provenance": []
  },
  "kernelspec": {
   "display_name": "Python 3",
   "language": "python",
   "name": "python3"
  },
  "language_info": {
   "codemirror_mode": {
    "name": "ipython",
    "version": 3
   },
   "file_extension": ".py",
   "mimetype": "text/x-python",
   "name": "python",
   "nbconvert_exporter": "python",
   "pygments_lexer": "ipython3",
   "version": "3.9.0"
  }
 },
 "nbformat": 4,
 "nbformat_minor": 4
}
