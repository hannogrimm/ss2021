{
 "cells": [
  {
   "cell_type": "markdown",
   "id": "binary-favor",
   "metadata": {},
   "source": [
    "# Anscombe's Quartet"
   ]
  },
  {
   "cell_type": "code",
   "execution_count": 45,
   "id": "stock-private",
   "metadata": {},
   "outputs": [],
   "source": [
    "import numpy as np  \n",
    "import matplotlib.pyplot as plt \n",
    "import pandas as pd\n",
    "import scipy"
   ]
  },
  {
   "cell_type": "markdown",
   "id": "effective-radar",
   "metadata": {},
   "source": [
    "#### Importing Dataset on Anscombe's Quartet"
   ]
  },
  {
   "cell_type": "code",
   "execution_count": 2,
   "id": "elegant-valuation",
   "metadata": {},
   "outputs": [],
   "source": [
    "path = \"./anscombes_quartet.txt\"\n",
    "anscombe = pd.read_csv(path)"
   ]
  },
  {
   "cell_type": "markdown",
   "id": "active-conducting",
   "metadata": {},
   "source": [
    "We can now work with the variable `anscombe` as a dataframe to analyze the dataset."
   ]
  },
  {
   "cell_type": "markdown",
   "id": "athletic-monroe",
   "metadata": {},
   "source": [
    "The dataset has the structure (x,y,dataset) where x and y are coordinates and dataset indicates the individual dataset the coordinates belongs to. This dataframe features four datasets (0-3) that are to be analyzed and plotted individually."
   ]
  },
  {
   "cell_type": "markdown",
   "id": "fleet-reproduction",
   "metadata": {},
   "source": [
    "Here is the basic structure of the dataframe:"
   ]
  },
  {
   "cell_type": "code",
   "execution_count": 12,
   "id": "requested-september",
   "metadata": {},
   "outputs": [
    {
     "data": {
      "text/html": [
       "<div>\n",
       "<style scoped>\n",
       "    .dataframe tbody tr th:only-of-type {\n",
       "        vertical-align: middle;\n",
       "    }\n",
       "\n",
       "    .dataframe tbody tr th {\n",
       "        vertical-align: top;\n",
       "    }\n",
       "\n",
       "    .dataframe thead th {\n",
       "        text-align: right;\n",
       "    }\n",
       "</style>\n",
       "<table border=\"1\" class=\"dataframe\">\n",
       "  <thead>\n",
       "    <tr style=\"text-align: right;\">\n",
       "      <th></th>\n",
       "      <th>#x</th>\n",
       "      <th>y</th>\n",
       "      <th>dataset</th>\n",
       "    </tr>\n",
       "  </thead>\n",
       "  <tbody>\n",
       "    <tr>\n",
       "      <th>39</th>\n",
       "      <td>8.0</td>\n",
       "      <td>5.25</td>\n",
       "      <td>3.0</td>\n",
       "    </tr>\n",
       "    <tr>\n",
       "      <th>40</th>\n",
       "      <td>19.0</td>\n",
       "      <td>12.50</td>\n",
       "      <td>3.0</td>\n",
       "    </tr>\n",
       "    <tr>\n",
       "      <th>41</th>\n",
       "      <td>8.0</td>\n",
       "      <td>5.56</td>\n",
       "      <td>3.0</td>\n",
       "    </tr>\n",
       "    <tr>\n",
       "      <th>42</th>\n",
       "      <td>8.0</td>\n",
       "      <td>7.91</td>\n",
       "      <td>3.0</td>\n",
       "    </tr>\n",
       "    <tr>\n",
       "      <th>43</th>\n",
       "      <td>8.0</td>\n",
       "      <td>6.89</td>\n",
       "      <td>3.0</td>\n",
       "    </tr>\n",
       "  </tbody>\n",
       "</table>\n",
       "</div>"
      ],
      "text/plain": [
       "      #x      y  dataset\n",
       "39   8.0   5.25      3.0\n",
       "40  19.0  12.50      3.0\n",
       "41   8.0   5.56      3.0\n",
       "42   8.0   7.91      3.0\n",
       "43   8.0   6.89      3.0"
      ]
     },
     "execution_count": 12,
     "metadata": {},
     "output_type": "execute_result"
    }
   ],
   "source": [
    "anscombe.tail()"
   ]
  },
  {
   "cell_type": "markdown",
   "id": "after-victory",
   "metadata": {},
   "source": [
    "#### Separating the dataframe into four individual datasets/dataframes"
   ]
  },
  {
   "cell_type": "code",
   "execution_count": 19,
   "id": "perceived-feeling",
   "metadata": {},
   "outputs": [],
   "source": [
    "A0 = anscombe[anscombe[\"dataset\"].eq(0.0)] # extracting the values with dataset = 0.0 using the equal boolean expression\n",
    "A1 = anscombe[anscombe[\"dataset\"].eq(1.0)]\n",
    "A2 = anscombe[anscombe[\"dataset\"].eq(2.0)]\n",
    "A3 = anscombe[anscombe[\"dataset\"].eq(3.0)]"
   ]
  },
  {
   "cell_type": "markdown",
   "id": "quality-cutting",
   "metadata": {},
   "source": [
    "\n",
    "### Descriptive Statistics of individual datasets"
   ]
  },
  {
   "cell_type": "markdown",
   "id": "fallen-genius",
   "metadata": {},
   "source": [
    "#### Mean & SD for `x`"
   ]
  },
  {
   "cell_type": "code",
   "execution_count": 39,
   "id": "silent-diamond",
   "metadata": {},
   "outputs": [
    {
     "name": "stdout",
     "output_type": "stream",
     "text": [
      "X - Dataset 1: Mean: 9, SD: 3\n",
      "X - Dataset 2: Mean: 9, SD: 3\n",
      "X - Dataset 3: Mean: 9, SD: 3\n",
      "X - Dataset 4: Mean: 9, SD: 3\n"
     ]
    }
   ],
   "source": [
    "print(\"X - Dataset 1: Mean: {:.0f}, SD: {:.0f}\".format(A0[\"#x\"].mean(), A0[\"#x\"].std()))\n",
    "print(\"X - Dataset 2: Mean: {:.0f}, SD: {:.0f}\".format(A1[\"#x\"].mean(), A1[\"#x\"].std()))\n",
    "print(\"X - Dataset 3: Mean: {:.0f}, SD: {:.0f}\".format(A2[\"#x\"].mean(), A2[\"#x\"].std()))\n",
    "print(\"X - Dataset 4: Mean: {:.0f}, SD: {:.0f}\".format(A3[\"#x\"].mean(), A3[\"#x\"].std()))"
   ]
  },
  {
   "cell_type": "markdown",
   "id": "unnecessary-positive",
   "metadata": {},
   "source": [
    "#### Mean & SD for `y`"
   ]
  },
  {
   "cell_type": "code",
   "execution_count": 41,
   "id": "controversial-highway",
   "metadata": {},
   "outputs": [
    {
     "name": "stdout",
     "output_type": "stream",
     "text": [
      "Y - Dataset 1: Mean: 8, SD: 2\n",
      "Y - Dataset 2: Mean: 8, SD: 2\n",
      "Y - Dataset 3: Mean: 8, SD: 2\n",
      "Y - Dataset 4: Mean: 8, SD: 2\n"
     ]
    }
   ],
   "source": [
    "print(\"Y - Dataset 1: Mean: {:.0f}, SD: {:.0f}\".format(A0[\"y\"].mean(), A0[\"y\"].std()))\n",
    "print(\"Y - Dataset 2: Mean: {:.0f}, SD: {:.0f}\".format(A1[\"y\"].mean(), A1[\"y\"].std()))\n",
    "print(\"Y - Dataset 3: Mean: {:.0f}, SD: {:.0f}\".format(A2[\"y\"].mean(), A2[\"y\"].std()))\n",
    "print(\"Y - Dataset 4: Mean: {:.0f}, SD: {:.0f}\".format(A3[\"y\"].mean(), A3[\"y\"].std()))"
   ]
  },
  {
   "cell_type": "markdown",
   "id": "broke-gateway",
   "metadata": {},
   "source": [
    "#### Linear Regression of `x`,`y`"
   ]
  },
  {
   "cell_type": "code",
   "execution_count": 100,
   "id": "satisfied-violin",
   "metadata": {},
   "outputs": [
    {
     "name": "stdout",
     "output_type": "stream",
     "text": [
      "Dataset 1: Slope: 0.500, Intercept: 3.000, Corelation: 0.816\n",
      "Dataset 2: Slope: 0.500, Intercept: 3.001, Corelation: 0.816\n",
      "Dataset 3: Slope: 0.500, Intercept: 3.002, Corelation: 0.816\n",
      "Dataset 4: Slope: 0.500, Intercept: 3.002, Corelation: 0.817\n"
     ]
    }
   ],
   "source": [
    "A0_LR = scipy.stats.linregress(A0[\"#x\"], A0[\"y\"])\n",
    "A1_LR = scipy.stats.linregress(A1[\"#x\"], A1[\"y\"])\n",
    "A2_LR = scipy.stats.linregress(A2[\"#x\"], A2[\"y\"])\n",
    "A3_LR = scipy.stats.linregress(A3[\"#x\"], A3[\"y\"])\n",
    "\n",
    "print(\"Dataset 1: Slope: {:.3f}, Intercept: {:.3f}, Corelation: {:.3f}\".format(A0_LR.slope, A0_LR.intercept, A0_LR.rvalue))\n",
    "print(\"Dataset 2: Slope: {:.3f}, Intercept: {:.3f}, Corelation: {:.3f}\".format(A1_LR.slope, A1_LR.intercept, A1_LR.rvalue))\n",
    "print(\"Dataset 3: Slope: {:.3f}, Intercept: {:.3f}, Corelation: {:.3f}\".format(A2_LR.slope, A2_LR.intercept, A2_LR.rvalue))\n",
    "print(\"Dataset 4: Slope: {:.3f}, Intercept: {:.3f}, Corelation: {:.3f}\".format(A3_LR.slope, A3_LR.intercept, A3_LR.rvalue))"
   ]
  },
  {
   "cell_type": "markdown",
   "id": "other-serbia",
   "metadata": {},
   "source": [
    "### Conclusion \n",
    "All four datasets show very similar descriptive statistics in mean, SD and even Linear Regression. It is natural to assume that a plotting of the four datasets will look very similar. In the following we will look at the plottings of each dataset."
   ]
  },
  {
   "cell_type": "markdown",
   "id": "mature-webcam",
   "metadata": {},
   "source": [
    "## Plotting of Datasets"
   ]
  },
  {
   "cell_type": "markdown",
   "id": "induced-fusion",
   "metadata": {},
   "source": [
    "#### `x`,`y` Histograms"
   ]
  },
  {
   "cell_type": "code",
   "execution_count": 85,
   "id": "rising-basketball",
   "metadata": {},
   "outputs": [
    {
     "data": {
      "text/plain": [
       "Text(0.5, 0, 'X-Distribution for Dataset 1')"
      ]
     },
     "execution_count": 85,
     "metadata": {},
     "output_type": "execute_result"
    },
    {
     "data": {
      "image/png": "[encoded data removed]",
      "text/plain": [
       "<Figure size 432x288 with 1 Axes>"
      ]
     },
     "metadata": {
      "needs_background": "light"
     },
     "output_type": "display_data"
    }
   ],
   "source": [
    "plt.hist(A0, range=(0, 20), bins=2)\n",
    "plt.xlabel(\"X-Distribution for Dataset 1\")"
   ]
  },
  {
   "cell_type": "code",
   "execution_count": 86,
   "id": "prescription-scanning",
   "metadata": {},
   "outputs": [
    {
     "data": {
      "text/plain": [
       "Text(0.5, 0, 'X-Distribution for Dataset 2')"
      ]
     },
     "execution_count": 86,
     "metadata": {},
     "output_type": "execute_result"
    },
    {
     "data": {
      "image/png": "[encoded data removed]",
      "text/plain": [
       "<Figure size 432x288 with 1 Axes>"
      ]
     },
     "metadata": {
      "needs_background": "light"
     },
     "output_type": "display_data"
    }
   ],
   "source": [
    "plt.hist(A1, range=(0, 20), bins=2)\n",
    "plt.xlabel(\"X-Distribution for Dataset 2\")\n"
   ]
  },
  {
   "cell_type": "code",
   "execution_count": 87,
   "id": "antique-values",
   "metadata": {},
   "outputs": [
    {
     "data": {
      "text/plain": [
       "Text(0.5, 0, 'X-Distribution for Dataset 3')"
      ]
     },
     "execution_count": 87,
     "metadata": {},
     "output_type": "execute_result"
    },
    {
     "data": {
      "image/png": "[encoded data removed]",
      "text/plain": [
       "<Figure size 432x288 with 1 Axes>"
      ]
     },
     "metadata": {
      "needs_background": "light"
     },
     "output_type": "display_data"
    }
   ],
   "source": [
    "plt.hist(A2, range=(0, 20), bins=2)\n",
    "plt.xlabel(\"X-Distribution for Dataset 3\")\n"
   ]
  },
  {
   "cell_type": "code",
   "execution_count": 88,
   "id": "geographic-category",
   "metadata": {},
   "outputs": [
    {
     "data": {
      "text/plain": [
       "Text(0.5, 0, 'Distribution for Dataset 4')"
      ]
     },
     "execution_count": 88,
     "metadata": {},
     "output_type": "execute_result"
    },
    {
     "data": {
      "image/png": "[encoded data removed]",
      "text/plain": [
       "<Figure size 432x288 with 1 Axes>"
      ]
     },
     "metadata": {
      "needs_background": "light"
     },
     "output_type": "display_data"
    }
   ],
   "source": [
    "plt.hist(A3, range=(0, 20), bins=2)\n",
    "plt.xlabel(\"Distribution for Dataset 4\")\n"
   ]
  },
  {
   "cell_type": "markdown",
   "id": "ruled-forum",
   "metadata": {},
   "source": [
    "#### Scatter Plots"
   ]
  },
  {
   "cell_type": "code",
   "execution_count": 95,
   "id": "arbitrary-expert",
   "metadata": {},
   "outputs": [
    {
     "data": {
      "text/plain": [
       "Text(0.5, 0, 'Scatter Plot for Dataset 1')"
      ]
     },
     "execution_count": 95,
     "metadata": {},
     "output_type": "execute_result"
    },
    {
     "data": {
      "image/png": "[encoded data removed]",
      "text/plain": [
       "<Figure size 432x288 with 1 Axes>"
      ]
     },
     "metadata": {
      "needs_background": "light"
     },
     "output_type": "display_data"
    }
   ],
   "source": [
    "plt.scatter(A0[\"#x\"], A0[\"y\"])\n",
    "plt.xlabel(\"Scatter Plot for Dataset 1\")"
   ]
  },
  {
   "cell_type": "code",
   "execution_count": 96,
   "id": "dominican-bulgaria",
   "metadata": {},
   "outputs": [
    {
     "data": {
      "text/plain": [
       "Text(0.5, 0, 'Scatter Plot for Dataset 2')"
      ]
     },
     "execution_count": 96,
     "metadata": {},
     "output_type": "execute_result"
    },
    {
     "data": {
      "image/png": "[encoded data removed]",
      "text/plain": [
       "<Figure size 432x288 with 1 Axes>"
      ]
     },
     "metadata": {
      "needs_background": "light"
     },
     "output_type": "display_data"
    }
   ],
   "source": [
    "plt.scatter(A1[\"#x\"], A1[\"y\"])\n",
    "plt.xlabel(\"Scatter Plot for Dataset 2\")"
   ]
  },
  {
   "cell_type": "code",
   "execution_count": 97,
   "id": "minimal-wound",
   "metadata": {},
   "outputs": [
    {
     "data": {
      "text/plain": [
       "Text(0.5, 0, 'Scatter Plot for Dataset 3')"
      ]
     },
     "execution_count": 97,
     "metadata": {},
     "output_type": "execute_result"
    },
    {
     "data": {
      "image/png": "[encoded data removed]",
      "text/plain": [
       "<Figure size 432x288 with 1 Axes>"
      ]
     },
     "metadata": {
      "needs_background": "light"
     },
     "output_type": "display_data"
    }
   ],
   "source": [
    "plt.scatter(A2[\"#x\"], A2[\"y\"])\n",
    "plt.xlabel(\"Scatter Plot for Dataset 3\")"
   ]
  },
  {
   "cell_type": "code",
   "execution_count": 98,
   "id": "emotional-better",
   "metadata": {},
   "outputs": [
    {
     "data": {
      "text/plain": [
       "Text(0.5, 0, 'Scatter Plot for Dataset 4')"
      ]
     },
     "execution_count": 98,
     "metadata": {},
     "output_type": "execute_result"
    },
    {
     "data": {
      "image/png": "[encoded data removed]",
      "text/plain": [
       "<Figure size 432x288 with 1 Axes>"
      ]
     },
     "metadata": {
      "needs_background": "light"
     },
     "output_type": "display_data"
    }
   ],
   "source": [
    "plt.scatter(A3[\"#x\"], A3[\"y\"])\n",
    "plt.xlabel(\"Scatter Plot for Dataset 4\")"
   ]
  },
  {
   "cell_type": "markdown",
   "id": "hispanic-relaxation",
   "metadata": {},
   "source": [
    "## Concluding Summary"
   ]
  },
  {
   "cell_type": "markdown",
   "id": "fuzzy-cooper",
   "metadata": {},
   "source": [
    "The descriptive statistic values (mean, std, correlation in linear regression) indicated a shared similarity of all datasets. Plotting the distribution graphed the datasets in an unpredicted manner. From this showcase, we can deduct that while statistical values can describe a analytical similarity between datasets, it is important to visualize the data before concluding a premature analysis out of our statistical findings."
   ]
  }
 ],
 "metadata": {
  "kernelspec": {
   "display_name": "Python 3",
   "language": "python",
   "name": "python3"
  },
  "language_info": {
   "codemirror_mode": {
    "name": "ipython",
    "version": 3
   },
   "file_extension": ".py",
   "mimetype": "text/x-python",
   "name": "python",
   "nbconvert_exporter": "python",
   "pygments_lexer": "ipython3",
   "version": "3.9.0"
  }
 },
 "nbformat": 4,
 "nbformat_minor": 5
}
